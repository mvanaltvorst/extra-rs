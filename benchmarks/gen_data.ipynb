{
 "cells": [
  {
   "cell_type": "code",
   "execution_count": null,
   "metadata": {},
   "outputs": [],
   "source": [
    "import numpy as np\n",
    "import pandas as pd\n",
    "\n",
    "N = 10**6\n",
    "M = 50\n",
    "\n",
    "np.random.seed(1234)\n",
    "\n",
    "true_rel = np.random.normal(size = (M,), scale = 1.0)\n",
    "print(f\"y = x' {true_rel.round(2)}\")\n",
    "\n",
    "X = np.random.normal(size = (N, M), scale = 1.0)\n",
    "y = X @ true_rel + np.random.normal(size = (N,), scale = 0.1)"
   ]
  },
  {
   "cell_type": "code",
   "execution_count": null,
   "metadata": {},
   "outputs": [],
   "source": [
    "data = pd.concat([\n",
    "    pd.DataFrame(X, columns = [f\"x{i}\" for i in range(M)]),\n",
    "    pd.DataFrame(y, columns = [\"y\"])\n",
    "], axis = 1)\n",
    "data"
   ]
  },
  {
   "cell_type": "code",
   "execution_count": null,
   "metadata": {},
   "outputs": [],
   "source": [
    "data.to_parquet(\"data.parquet\", index = False, compression = \"zstd\", compression_level = 22)"
   ]
  }
 ],
 "metadata": {
  "kernelspec": {
   "display_name": "develop",
   "language": "python",
   "name": "python3"
  },
  "language_info": {
   "codemirror_mode": {
    "name": "ipython",
    "version": 3
   },
   "file_extension": ".py",
   "mimetype": "text/x-python",
   "name": "python",
   "nbconvert_exporter": "python",
   "pygments_lexer": "ipython3",
   "version": "3.10.4"
  },
  "orig_nbformat": 4
 },
 "nbformat": 4,
 "nbformat_minor": 2
}
