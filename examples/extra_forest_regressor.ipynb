{
 "cells": [
  {
   "cell_type": "markdown",
   "metadata": {},
   "source": [
    "# Extra forest regressor\n",
    "\n",
    "A demonstration of how to use the extra forest regressor. \n",
    "\n",
    "We also investigate the behaviour of the extra forest regressor when regressing on a binary dummy variable."
   ]
  },
  {
   "cell_type": "code",
   "execution_count": 1,
   "metadata": {},
   "outputs": [],
   "source": [
    "import extra_py as ep\n",
    "import numpy as np\n",
    "import matplotlib.pyplot as plt"
   ]
  },
  {
   "cell_type": "code",
   "execution_count": 2,
   "metadata": {},
   "outputs": [],
   "source": [
    "X = np.array([\n",
    "    [0, 0],\n",
    "    [1, 1],\n",
    "    [0, 1],\n",
    "], dtype = np.float32)\n",
    "\n",
    "y = np.array([0, 1, 1], dtype = np.float32)\n",
    "\n",
    "model = ep.ExtraForestRegressor(n_estimators=500)"
   ]
  },
  {
   "cell_type": "code",
   "execution_count": 3,
   "metadata": {},
   "outputs": [],
   "source": [
    "model.fit(X, y)"
   ]
  },
  {
   "cell_type": "code",
   "execution_count": 4,
   "metadata": {},
   "outputs": [
    {
     "data": {
      "text/plain": [
       "array([0., 1., 1.], dtype=float32)"
      ]
     },
     "execution_count": 4,
     "metadata": {},
     "output_type": "execute_result"
    }
   ],
   "source": [
    "model.predict(X)"
   ]
  },
  {
   "cell_type": "markdown",
   "metadata": {},
   "source": [
    "Let's observe a few of the underlying trees that have been made."
   ]
  },
  {
   "cell_type": "code",
   "execution_count": 7,
   "metadata": {},
   "outputs": [
    {
     "data": {
      "text/plain": [
       "['Branch(NumericalSplitter(1, 0.67519075), Leaf(0.0), Leaf(1.0))',\n",
       " 'Branch(NumericalSplitter(1, 0.71280414), Leaf(0.0), Leaf(1.0))',\n",
       " 'Branch(NumericalSplitter(1, 0.43100762), Leaf(0.0), Leaf(1.0))']"
      ]
     },
     "execution_count": 7,
     "metadata": {},
     "output_type": "execute_result"
    }
   ],
   "source": [
    "model.get_debug_tree_descriptions()[:3]"
   ]
  },
  {
   "cell_type": "markdown",
   "metadata": {},
   "source": [
    "We observe we end up with trees with a single branch for the second feature. \n",
    "\n",
    "Let's analyze the behaviour of the entire forest by considering different possible values for the second feature and the corresponding predicted values."
   ]
  },
  {
   "cell_type": "code",
   "execution_count": 14,
   "metadata": {},
   "outputs": [
    {
     "data": {
      "text/plain": [
       "Text(0.5, 1.0, 'ExtraTreesRegressor predictions')"
      ]
     },
     "execution_count": 14,
     "metadata": {},
     "output_type": "execute_result"
    },
    {
     "data": {
      "image/png": "[encoded data removed]",
      "text/plain": [
       "<Figure size 576x432 with 1 Axes>"
      ]
     },
     "metadata": {
      "needs_background": "light"
     },
     "output_type": "display_data"
    }
   ],
   "source": [
    "fig, ax = plt.subplots(figsize=(8, 6))\n",
    "xvals = np.linspace(-0.5, 1.5, 200)\n",
    "Xprime = np.array([[0, x] for x in xvals], dtype = np.float32)\n",
    "yprime = model.predict(Xprime)\n",
    "\n",
    "plt.plot(xvals, yprime)\n",
    "plt.xlabel('Feature 2 value')\n",
    "plt.ylabel('Predicted value')\n",
    "plt.title('ExtraTreesRegressor predictions')"
   ]
  },
  {
   "cell_type": "markdown",
   "metadata": {},
   "source": [
    "We observe the prediction represents a linearly increasing \"propensity to be 1\"."
   ]
  }
 ],
 "metadata": {
  "kernelspec": {
   "display_name": "develop",
   "language": "python",
   "name": "python3"
  },
  "language_info": {
   "codemirror_mode": {
    "name": "ipython",
    "version": 3
   },
   "file_extension": ".py",
   "mimetype": "text/x-python",
   "name": "python",
   "nbconvert_exporter": "python",
   "pygments_lexer": "ipython3",
   "version": "3.10.4"
  },
  "orig_nbformat": 4
 },
 "nbformat": 4,
 "nbformat_minor": 2
}
